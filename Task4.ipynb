{
 "cells": [
  {
   "cell_type": "markdown",
   "id": "46a3af11",
   "metadata": {},
   "source": [
    "# **Advance Topics in Machine Learning**\n",
    "## **Assignment 0 - Introduction**\n",
    "---"
   ]
  },
  {
   "cell_type": "markdown",
   "id": "da0502a7",
   "metadata": {},
   "source": [
    "### **Task 4: Training Variational Autoencoders**"
   ]
  },
  {
   "cell_type": "code",
   "execution_count": 1,
   "id": "80f5972f",
   "metadata": {},
   "outputs": [
    {
     "name": "stdout",
     "output_type": "stream",
     "text": [
      "Device: cuda\n"
     ]
    }
   ],
   "source": [
    "# Cell 1: Setup — imports, device, seeds, folders\n",
    "# If needed: !pip -q install torchvision matplotlib numpy\n",
    "import os, random, math, time\n",
    "import numpy as np\n",
    "import torch\n",
    "import torch.nn as nn\n",
    "import torch.nn.functional as F\n",
    "from torchvision import datasets, transforms, utils as vutils\n",
    "from torch.utils.data import DataLoader, random_split\n",
    "import matplotlib.pyplot as plt\n",
    "\n",
    "# Reproducibility\n",
    "seed = 42\n",
    "random.seed(seed); np.random.seed(seed)\n",
    "torch.manual_seed(seed); torch.cuda.manual_seed_all(seed)\n",
    "\n",
    "device = torch.device(\"cuda\" if torch.cuda.is_available() else \"cpu\")\n",
    "print(\"Device:\", device)\n",
    "\n",
    "os.makedirs(\"vae_outputs\", exist_ok=True)\n"
   ]
  },
  {
   "cell_type": "code",
   "execution_count": 2,
   "id": "1dd5f498",
   "metadata": {},
   "outputs": [
    {
     "name": "stdout",
     "output_type": "stream",
     "text": [
      "Downloading http://fashion-mnist.s3-website.eu-central-1.amazonaws.com/train-images-idx3-ubyte.gz\n",
      "Downloading http://fashion-mnist.s3-website.eu-central-1.amazonaws.com/train-images-idx3-ubyte.gz to ./data\\FashionMNIST\\raw\\train-images-idx3-ubyte.gz\n"
     ]
    },
    {
     "name": "stderr",
     "output_type": "stream",
     "text": [
      "100%|██████████| 26.4M/26.4M [00:21<00:00, 1.25MB/s]\n"
     ]
    },
    {
     "name": "stdout",
     "output_type": "stream",
     "text": [
      "Extracting ./data\\FashionMNIST\\raw\\train-images-idx3-ubyte.gz to ./data\\FashionMNIST\\raw\n",
      "\n",
      "Downloading http://fashion-mnist.s3-website.eu-central-1.amazonaws.com/train-labels-idx1-ubyte.gz\n",
      "Downloading http://fashion-mnist.s3-website.eu-central-1.amazonaws.com/train-labels-idx1-ubyte.gz to ./data\\FashionMNIST\\raw\\train-labels-idx1-ubyte.gz\n"
     ]
    },
    {
     "name": "stderr",
     "output_type": "stream",
     "text": [
      "100%|██████████| 29.5k/29.5k [00:00<00:00, 181kB/s]\n"
     ]
    },
    {
     "name": "stdout",
     "output_type": "stream",
     "text": [
      "Extracting ./data\\FashionMNIST\\raw\\train-labels-idx1-ubyte.gz to ./data\\FashionMNIST\\raw\n",
      "\n",
      "Downloading http://fashion-mnist.s3-website.eu-central-1.amazonaws.com/t10k-images-idx3-ubyte.gz\n",
      "Downloading http://fashion-mnist.s3-website.eu-central-1.amazonaws.com/t10k-images-idx3-ubyte.gz to ./data\\FashionMNIST\\raw\\t10k-images-idx3-ubyte.gz\n"
     ]
    },
    {
     "name": "stderr",
     "output_type": "stream",
     "text": [
      "100%|██████████| 4.42M/4.42M [00:07<00:00, 566kB/s] \n"
     ]
    },
    {
     "name": "stdout",
     "output_type": "stream",
     "text": [
      "Extracting ./data\\FashionMNIST\\raw\\t10k-images-idx3-ubyte.gz to ./data\\FashionMNIST\\raw\n",
      "\n",
      "Downloading http://fashion-mnist.s3-website.eu-central-1.amazonaws.com/t10k-labels-idx1-ubyte.gz\n",
      "Downloading http://fashion-mnist.s3-website.eu-central-1.amazonaws.com/t10k-labels-idx1-ubyte.gz to ./data\\FashionMNIST\\raw\\t10k-labels-idx1-ubyte.gz\n"
     ]
    },
    {
     "name": "stderr",
     "output_type": "stream",
     "text": [
      "100%|██████████| 5.15k/5.15k [00:00<00:00, 326kB/s]\n"
     ]
    },
    {
     "name": "stdout",
     "output_type": "stream",
     "text": [
      "Extracting ./data\\FashionMNIST\\raw\\t10k-labels-idx1-ubyte.gz to ./data\\FashionMNIST\\raw\n",
      "\n"
     ]
    },
    {
     "data": {
      "text/plain": [
       "(55000, 5000, 10000)"
      ]
     },
     "execution_count": 2,
     "metadata": {},
     "output_type": "execute_result"
    }
   ],
   "source": [
    "# Cell 2: Data — FashionMNIST loaders (normalize to [-1, 1])\n",
    "BATCH_SIZE = 128\n",
    "\n",
    "tf = transforms.Compose([\n",
    "    transforms.ToTensor(),                     # [0,1]\n",
    "    transforms.Normalize((0.5,), (0.5,)),     # -> [-1,1]\n",
    "])\n",
    "\n",
    "train_full = datasets.FashionMNIST(root=\"./data\", train=True, download=True, transform=tf)\n",
    "test_set   = datasets.FashionMNIST(root=\"./data\", train=False, download=True, transform=tf)\n",
    "\n",
    "# Make a small validation split from train_full (e.g., 55k train / 5k val)\n",
    "val_size = 5000\n",
    "train_size = len(train_full) - val_size\n",
    "train_set, val_set = random_split(train_full, [train_size, val_size], generator=torch.Generator().manual_seed(seed))\n",
    "\n",
    "train_loader = DataLoader(train_set, batch_size=BATCH_SIZE, shuffle=True,  num_workers=2, drop_last=True)\n",
    "val_loader   = DataLoader(val_set,   batch_size=BATCH_SIZE, shuffle=False, num_workers=2, drop_last=False)\n",
    "test_loader  = DataLoader(test_set,  batch_size=BATCH_SIZE, shuffle=False, num_workers=2, drop_last=False)\n",
    "\n",
    "len(train_set), len(val_set), len(test_set)\n"
   ]
  },
  {
   "cell_type": "code",
   "execution_count": 3,
   "id": "292e6374",
   "metadata": {},
   "outputs": [
    {
     "name": "stdout",
     "output_type": "stream",
     "text": [
      "Loaded architecture.VAE from architecture.py\n",
      "VAE on cuda\n"
     ]
    }
   ],
   "source": [
    "# Cell 3: Model — import provided architecture.py (assumed present in working dir)\n",
    "# The architecture is expected to define a class VAE with:\n",
    "# forward(x) -> recon, mu, logvar\n",
    "# encode(x) -> mu, logvar\n",
    "# reparameterize(mu, logvar) -> z\n",
    "# decode(z) -> recon\n",
    "try:\n",
    "    import architecture as arch\n",
    "    VAE = arch.VAE\n",
    "    print(\"Loaded architecture.VAE from architecture.py\")\n",
    "except Exception as e:\n",
    "    raise RuntimeError(\n",
    "        \"Could not import architecture.py. Please place the provided file in the working directory.\\n\"\n",
    "        f\"Original error: {e}\"\n",
    "    )\n",
    "\n",
    "# Instantiate model\n",
    "vae = VAE().to(device)\n",
    "print(vae.__class__.__name__, \"on\", device)\n"
   ]
  },
  {
   "cell_type": "code",
   "execution_count": 4,
   "id": "dccd16c3",
   "metadata": {},
   "outputs": [],
   "source": [
    "# Cell 4: Loss — reconstruction (MSE) + KL divergence; utilities\n",
    "def mse_recon_loss(recon, x):\n",
    "    # both in [-1,1]; assume x is normalized; average per-batch\n",
    "    return F.mse_loss(recon, x, reduction=\"mean\")\n",
    "\n",
    "def kl_divergence(mu, logvar):\n",
    "    # KL(q(z|x) || p(z)) where p is N(0, I):\n",
    "    # 0.5 * sum( exp(logvar) + mu^2 - 1 - logvar ) averaged over batch\n",
    "    # Use mean over batch and dimensions\n",
    "    return 0.5 * torch.mean(torch.exp(logvar) + mu**2 - 1.0 - logvar)\n",
    "\n",
    "@torch.no_grad()\n",
    "def evaluate_epoch(model, loader, beta=1.0):\n",
    "    model.eval()\n",
    "    recon_sum, kl_sum, n_batches = 0.0, 0.0, 0\n",
    "    for x, _ in loader:\n",
    "        x = x.to(device)\n",
    "        recon, mu, logvar = model(x)\n",
    "        recon_loss = mse_recon_loss(recon, x)\n",
    "        kl = kl_divergence(mu, logvar)\n",
    "        recon_sum += recon_loss.item()\n",
    "        kl_sum += kl.item()\n",
    "        n_batches += 1\n",
    "    return {\n",
    "        \"recon\": recon_sum / n_batches,\n",
    "        \"kl\": kl_sum / n_batches,\n",
    "        \"total\": (recon_sum / n_batches) + beta * (kl_sum / n_batches),\n",
    "    }\n"
   ]
  },
  {
   "cell_type": "code",
   "execution_count": 5,
   "id": "d4d022d3",
   "metadata": {},
   "outputs": [],
   "source": [
    "# Cell 5: Training loop (baseline) — fixed beta=1.0\n",
    "def train_vae(\n",
    "    model,\n",
    "    train_loader,\n",
    "    val_loader,\n",
    "    epochs=20,\n",
    "    lr=1e-3,\n",
    "    beta=1.0,            # constant beta\n",
    "    tag=\"baseline\",\n",
    "    log_interval=100,\n",
    "    out_dir=\"vae_outputs\",\n",
    "):\n",
    "    model = model.to(device)\n",
    "    opt = torch.optim.Adam(model.parameters(), lr=lr)\n",
    "    hist = {\"train_recon\": [], \"train_kl\": [], \"train_total\": [],\n",
    "            \"val_recon\": [],   \"val_kl\":   [], \"val_total\": []}\n",
    "\n",
    "    step = 0\n",
    "    for ep in range(1, epochs+1):\n",
    "        model.train()\n",
    "        recon_running, kl_running, nb = 0.0, 0.0, 0\n",
    "        for x, _ in train_loader:\n",
    "            x = x.to(device)\n",
    "            opt.zero_grad()\n",
    "            recon, mu, logvar = model(x)\n",
    "            recon_loss = mse_recon_loss(recon, x)\n",
    "            kl = kl_divergence(mu, logvar)\n",
    "            loss = recon_loss + beta * kl\n",
    "            loss.backward()\n",
    "            opt.step()\n",
    "\n",
    "            recon_running += recon_loss.item()\n",
    "            kl_running += kl.item()\n",
    "            nb += 1\n",
    "\n",
    "            if step % log_interval == 0:\n",
    "                print(f\"[{tag}] Epoch {ep:02d} Step {step:05d} | recon {recon_loss.item():.4f} | kl {kl.item():.4f} | total {loss.item():.4f}\")\n",
    "            step += 1\n",
    "\n",
    "        # epoch means\n",
    "        train_recon = recon_running / nb\n",
    "        train_kl    = kl_running / nb\n",
    "        train_total = train_recon + beta * train_kl\n",
    "\n",
    "        # validation\n",
    "        val_metrics = evaluate_epoch(model, val_loader, beta=beta)\n",
    "\n",
    "        hist[\"train_recon\"].append(train_recon)\n",
    "        hist[\"train_kl\"].append(train_kl)\n",
    "        hist[\"train_total\"].append(train_total)\n",
    "        hist[\"val_recon\"].append(val_metrics[\"recon\"])\n",
    "        hist[\"val_kl\"].append(val_metrics[\"kl\"])\n",
    "        hist[\"val_total\"].append(val_metrics[\"total\"])\n",
    "\n",
    "        # save checkpoint & a small reconstruction grid each epoch\n",
    "        torch.save(model.state_dict(), os.path.join(out_dir, f\"vae_{tag}_epoch_{ep:03d}.pt\"))\n",
    "\n",
    "        with torch.no_grad():\n",
    "            x_vis, _ = next(iter(val_loader))\n",
    "            x_vis = x_vis.to(device)[:16]\n",
    "            recon_vis, _, _ = model(x_vis)\n",
    "            grid = vutils.make_grid(torch.cat([(x_vis+1)/2, (recon_vis+1)/2], dim=0), nrow=16, pad_value=1.0)\n",
    "            vutils.save_image(grid, os.path.join(out_dir, f\"recon_{tag}_epoch_{ep:03d}.png\"))\n",
    "\n",
    "        print(f\"[{tag}] Epoch {ep:02d} train(total={train_total:.4f}, recon={train_recon:.4f}, kl={train_kl:.4f}) \"\n",
    "              f\"| val(total={val_metrics['total']:.4f}, recon={val_metrics['recon']:.4f}, kl={val_metrics['kl']:.4f})\")\n",
    "\n",
    "    return hist\n"
   ]
  },
  {
   "cell_type": "code",
   "execution_count": 6,
   "id": "b1155f65",
   "metadata": {},
   "outputs": [
    {
     "name": "stdout",
     "output_type": "stream",
     "text": [
      "[baseline] Epoch 01 Step 00000 | recon 1.3887 | kl 0.0015 | total 1.3902\n",
      "[baseline] Epoch 01 Step 00100 | recon 0.6456 | kl 0.0000 | total 0.6456\n",
      "[baseline] Epoch 01 Step 00200 | recon 0.6916 | kl 0.0000 | total 0.6916\n",
      "[baseline] Epoch 01 Step 00300 | recon 0.6852 | kl 0.0000 | total 0.6852\n",
      "[baseline] Epoch 01 Step 00400 | recon 0.6872 | kl 0.0000 | total 0.6872\n",
      "[baseline] Epoch 01 train(total=0.6936, recon=0.6934, kl=0.0002) | val(total=0.6813, recon=0.6813, kl=0.0000)\n",
      "[baseline] Epoch 02 Step 00500 | recon 0.6856 | kl 0.0000 | total 0.6856\n",
      "[baseline] Epoch 02 Step 00600 | recon 0.6880 | kl 0.0000 | total 0.6880\n",
      "[baseline] Epoch 02 Step 00700 | recon 0.6825 | kl 0.0000 | total 0.6825\n",
      "[baseline] Epoch 02 Step 00800 | recon 0.7004 | kl 0.0000 | total 0.7004\n",
      "[baseline] Epoch 02 train(total=0.6816, recon=0.6816, kl=0.0000) | val(total=0.6813, recon=0.6813, kl=0.0000)\n",
      "[baseline] Epoch 03 Step 00900 | recon 0.6864 | kl 0.0000 | total 0.6864\n",
      "[baseline] Epoch 03 Step 01000 | recon 0.6947 | kl 0.0000 | total 0.6947\n",
      "[baseline] Epoch 03 Step 01100 | recon 0.6780 | kl 0.0000 | total 0.6780\n",
      "[baseline] Epoch 03 Step 01200 | recon 0.6791 | kl 0.0000 | total 0.6791\n",
      "[baseline] Epoch 03 train(total=0.6816, recon=0.6816, kl=0.0000) | val(total=0.6813, recon=0.6813, kl=0.0000)\n",
      "[baseline] Epoch 04 Step 01300 | recon 0.6795 | kl 0.0000 | total 0.6795\n",
      "[baseline] Epoch 04 Step 01400 | recon 0.6792 | kl 0.0000 | total 0.6792\n",
      "[baseline] Epoch 04 Step 01500 | recon 0.6721 | kl 0.0000 | total 0.6721\n",
      "[baseline] Epoch 04 Step 01600 | recon 0.6659 | kl 0.0000 | total 0.6659\n",
      "[baseline] Epoch 04 Step 01700 | recon 0.6733 | kl 0.0000 | total 0.6733\n",
      "[baseline] Epoch 04 train(total=0.6816, recon=0.6816, kl=0.0000) | val(total=0.6813, recon=0.6813, kl=0.0000)\n",
      "[baseline] Epoch 05 Step 01800 | recon 0.6917 | kl 0.0000 | total 0.6917\n",
      "[baseline] Epoch 05 Step 01900 | recon 0.6806 | kl 0.0000 | total 0.6806\n",
      "[baseline] Epoch 05 Step 02000 | recon 0.6886 | kl 0.0000 | total 0.6886\n",
      "[baseline] Epoch 05 Step 02100 | recon 0.6859 | kl 0.0000 | total 0.6859\n",
      "[baseline] Epoch 05 train(total=0.6816, recon=0.6816, kl=0.0000) | val(total=0.6813, recon=0.6813, kl=0.0000)\n",
      "[baseline] Epoch 06 Step 02200 | recon 0.6917 | kl 0.0000 | total 0.6917\n",
      "[baseline] Epoch 06 Step 02300 | recon 0.6762 | kl 0.0000 | total 0.6762\n",
      "[baseline] Epoch 06 Step 02400 | recon 0.6887 | kl 0.0000 | total 0.6887\n",
      "[baseline] Epoch 06 Step 02500 | recon 0.6706 | kl 0.0000 | total 0.6706\n",
      "[baseline] Epoch 06 train(total=0.6816, recon=0.6816, kl=0.0000) | val(total=0.6813, recon=0.6813, kl=0.0000)\n",
      "[baseline] Epoch 07 Step 02600 | recon 0.6872 | kl 0.0000 | total 0.6872\n",
      "[baseline] Epoch 07 Step 02700 | recon 0.7016 | kl 0.0000 | total 0.7016\n",
      "[baseline] Epoch 07 Step 02800 | recon 0.6839 | kl 0.0000 | total 0.6839\n",
      "[baseline] Epoch 07 Step 02900 | recon 0.6835 | kl 0.0000 | total 0.6835\n",
      "[baseline] Epoch 07 Step 03000 | recon 0.6902 | kl 0.0000 | total 0.6902\n",
      "[baseline] Epoch 07 train(total=0.6815, recon=0.6815, kl=0.0000) | val(total=0.6790, recon=0.6790, kl=0.0000)\n",
      "[baseline] Epoch 08 Step 03100 | recon 0.6859 | kl 0.0003 | total 0.6862\n",
      "[baseline] Epoch 08 Step 03200 | recon 0.6669 | kl 0.0004 | total 0.6674\n",
      "[baseline] Epoch 08 Step 03300 | recon 0.6800 | kl 0.0004 | total 0.6805\n",
      "[baseline] Epoch 08 Step 03400 | recon 0.6636 | kl 0.0005 | total 0.6641\n",
      "[baseline] Epoch 08 train(total=0.6782, recon=0.6779, kl=0.0003) | val(total=0.6771, recon=0.6766, kl=0.0005)\n",
      "[baseline] Epoch 09 Step 03500 | recon 0.7032 | kl 0.0005 | total 0.7037\n",
      "[baseline] Epoch 09 Step 03600 | recon 0.6811 | kl 0.0005 | total 0.6816\n",
      "[baseline] Epoch 09 Step 03700 | recon 0.6797 | kl 0.0006 | total 0.6803\n",
      "[baseline] Epoch 09 Step 03800 | recon 0.6404 | kl 0.0006 | total 0.6410\n",
      "[baseline] Epoch 09 train(total=0.6781, recon=0.6776, kl=0.0005) | val(total=0.6770, recon=0.6763, kl=0.0007)\n",
      "[baseline] Epoch 10 Step 03900 | recon 0.6714 | kl 0.0006 | total 0.6720\n",
      "[baseline] Epoch 10 Step 04000 | recon 0.6762 | kl 0.0006 | total 0.6768\n",
      "[baseline] Epoch 10 Step 04100 | recon 0.6801 | kl 0.0008 | total 0.6809\n",
      "[baseline] Epoch 10 Step 04200 | recon 0.6745 | kl 0.0006 | total 0.6751\n",
      "[baseline] Epoch 10 train(total=0.6781, recon=0.6774, kl=0.0006) | val(total=0.6769, recon=0.6764, kl=0.0005)\n",
      "[baseline] Epoch 11 Step 04300 | recon 0.6486 | kl 0.0003 | total 0.6489\n",
      "[baseline] Epoch 11 Step 04400 | recon 0.6868 | kl 0.0007 | total 0.6876\n",
      "[baseline] Epoch 11 Step 04500 | recon 0.6484 | kl 0.0004 | total 0.6488\n",
      "[baseline] Epoch 11 Step 04600 | recon 0.6750 | kl 0.0004 | total 0.6755\n",
      "[baseline] Epoch 11 Step 04700 | recon 0.6574 | kl 0.0005 | total 0.6578\n",
      "[baseline] Epoch 11 train(total=0.6780, recon=0.6775, kl=0.0005) | val(total=0.6769, recon=0.6763, kl=0.0005)\n",
      "[baseline] Epoch 12 Step 04800 | recon 0.6742 | kl 0.0005 | total 0.6747\n",
      "[baseline] Epoch 12 Step 04900 | recon 0.6728 | kl 0.0004 | total 0.6732\n",
      "[baseline] Epoch 12 Step 05000 | recon 0.6701 | kl 0.0005 | total 0.6707\n",
      "[baseline] Epoch 12 Step 05100 | recon 0.6881 | kl 0.0005 | total 0.6886\n",
      "[baseline] Epoch 12 train(total=0.6780, recon=0.6775, kl=0.0005) | val(total=0.6772, recon=0.6765, kl=0.0007)\n",
      "[baseline] Epoch 13 Step 05200 | recon 0.6772 | kl 0.0007 | total 0.6779\n",
      "[baseline] Epoch 13 Step 05300 | recon 0.6774 | kl 0.0007 | total 0.6781\n",
      "[baseline] Epoch 13 Step 05400 | recon 0.6663 | kl 0.0005 | total 0.6668\n",
      "[baseline] Epoch 13 Step 05500 | recon 0.6803 | kl 0.0008 | total 0.6811\n",
      "[baseline] Epoch 13 train(total=0.6779, recon=0.6772, kl=0.0007) | val(total=0.6766, recon=0.6759, kl=0.0008)\n",
      "[baseline] Epoch 14 Step 05600 | recon 0.6846 | kl 0.0008 | total 0.6854\n",
      "[baseline] Epoch 14 Step 05700 | recon 0.6914 | kl 0.0013 | total 0.6927\n",
      "[baseline] Epoch 14 Step 05800 | recon 0.6598 | kl 0.0013 | total 0.6611\n",
      "[baseline] Epoch 14 Step 05900 | recon 0.7012 | kl 0.0012 | total 0.7024\n",
      "[baseline] Epoch 14 Step 06000 | recon 0.6958 | kl 0.0013 | total 0.6970\n",
      "[baseline] Epoch 14 train(total=0.6779, recon=0.6768, kl=0.0011) | val(total=0.6767, recon=0.6755, kl=0.0012)\n",
      "[baseline] Epoch 15 Step 06100 | recon 0.6734 | kl 0.0013 | total 0.6747\n",
      "[baseline] Epoch 15 Step 06200 | recon 0.6851 | kl 0.0014 | total 0.6864\n",
      "[baseline] Epoch 15 Step 06300 | recon 0.6922 | kl 0.0014 | total 0.6936\n",
      "[baseline] Epoch 15 Step 06400 | recon 0.6923 | kl 0.0013 | total 0.6936\n",
      "[baseline] Epoch 15 train(total=0.6780, recon=0.6768, kl=0.0012) | val(total=0.6766, recon=0.6757, kl=0.0008)\n",
      "[baseline] Epoch 16 Step 06500 | recon 0.6688 | kl 0.0011 | total 0.6699\n",
      "[baseline] Epoch 16 Step 06600 | recon 0.6808 | kl 0.0010 | total 0.6818\n",
      "[baseline] Epoch 16 Step 06700 | recon 0.6859 | kl 0.0012 | total 0.6871\n",
      "[baseline] Epoch 16 Step 06800 | recon 0.6774 | kl 0.0011 | total 0.6784\n",
      "[baseline] Epoch 16 train(total=0.6779, recon=0.6769, kl=0.0010) | val(total=0.6768, recon=0.6758, kl=0.0010)\n",
      "[baseline] Epoch 17 Step 06900 | recon 0.6787 | kl 0.0008 | total 0.6795\n",
      "[baseline] Epoch 17 Step 07000 | recon 0.6840 | kl 0.0010 | total 0.6849\n",
      "[baseline] Epoch 17 Step 07100 | recon 0.6938 | kl 0.0010 | total 0.6948\n",
      "[baseline] Epoch 17 Step 07200 | recon 0.6807 | kl 0.0009 | total 0.6817\n",
      "[baseline] Epoch 17 train(total=0.6780, recon=0.6770, kl=0.0010) | val(total=0.6771, recon=0.6759, kl=0.0012)\n",
      "[baseline] Epoch 18 Step 07300 | recon 0.6516 | kl 0.0010 | total 0.6526\n",
      "[baseline] Epoch 18 Step 07400 | recon 0.6857 | kl 0.0013 | total 0.6870\n",
      "[baseline] Epoch 18 Step 07500 | recon 0.6781 | kl 0.0012 | total 0.6794\n",
      "[baseline] Epoch 18 Step 07600 | recon 0.6537 | kl 0.0011 | total 0.6548\n",
      "[baseline] Epoch 18 Step 07700 | recon 0.6788 | kl 0.0010 | total 0.6798\n",
      "[baseline] Epoch 18 train(total=0.6779, recon=0.6767, kl=0.0012) | val(total=0.6770, recon=0.6761, kl=0.0010)\n",
      "[baseline] Epoch 19 Step 07800 | recon 0.6638 | kl 0.0010 | total 0.6648\n",
      "[baseline] Epoch 19 Step 07900 | recon 0.6700 | kl 0.0016 | total 0.6715\n",
      "[baseline] Epoch 19 Step 08000 | recon 0.6730 | kl 0.0017 | total 0.6747\n",
      "[baseline] Epoch 19 Step 08100 | recon 0.6730 | kl 0.0016 | total 0.6746\n",
      "[baseline] Epoch 19 train(total=0.6779, recon=0.6765, kl=0.0014) | val(total=0.6767, recon=0.6750, kl=0.0017)\n",
      "[baseline] Epoch 20 Step 08200 | recon 0.6833 | kl 0.0015 | total 0.6848\n",
      "[baseline] Epoch 20 Step 08300 | recon 0.6756 | kl 0.0014 | total 0.6769\n",
      "[baseline] Epoch 20 Step 08400 | recon 0.6856 | kl 0.0014 | total 0.6870\n",
      "[baseline] Epoch 20 Step 08500 | recon 0.6731 | kl 0.0011 | total 0.6742\n",
      "[baseline] Epoch 20 train(total=0.6779, recon=0.6765, kl=0.0015) | val(total=0.6764, recon=0.6745, kl=0.0019)\n"
     ]
    }
   ],
   "source": [
    "# Cell 6: Run baseline training (Task 4.1)\n",
    "baseline_hist = train_vae(\n",
    "    vae, train_loader, val_loader,\n",
    "    epochs=20,\n",
    "    lr=1e-3,\n",
    "    beta=1.0,           # standard ELBO\n",
    "    tag=\"baseline\",\n",
    "    log_interval=100,\n",
    "    out_dir=\"vae_outputs\",\n",
    ")\n"
   ]
  },
  {
   "cell_type": "code",
   "execution_count": 7,
   "id": "8631dcf1",
   "metadata": {},
   "outputs": [
    {
     "data": {
      "text/plain": [
       "('vae_outputs\\\\loss_total_baseline.png',\n",
       " 'vae_outputs\\\\loss_recon_baseline.png',\n",
       " 'vae_outputs\\\\loss_kl_baseline.png')"
      ]
     },
     "execution_count": 7,
     "metadata": {},
     "output_type": "execute_result"
    }
   ],
   "source": [
    "# Cell 7: Plot training/validation losses (Task 4.1d)\n",
    "def plot_history(hist, tag=\"baseline\", out_dir=\"vae_outputs\"):\n",
    "    plt.figure()\n",
    "    plt.plot(hist[\"train_total\"], label=\"train_total\")\n",
    "    plt.plot(hist[\"val_total\"],   label=\"val_total\")\n",
    "    plt.xlabel(\"Epoch\"); plt.ylabel(\"Loss\"); plt.title(f\"Total Loss ({tag})\"); plt.legend()\n",
    "    p1 = os.path.join(out_dir, f\"loss_total_{tag}.png\")\n",
    "    plt.savefig(p1, dpi=150, bbox_inches=\"tight\"); plt.close()\n",
    "\n",
    "    plt.figure()\n",
    "    plt.plot(hist[\"train_recon\"], label=\"train_recon\")\n",
    "    plt.plot(hist[\"val_recon\"],   label=\"val_recon\")\n",
    "    plt.xlabel(\"Epoch\"); plt.ylabel(\"MSE\"); plt.title(f\"Reconstruction MSE ({tag})\"); plt.legend()\n",
    "    p2 = os.path.join(out_dir, f\"loss_recon_{tag}.png\")\n",
    "    plt.savefig(p2, dpi=150, bbox_inches=\"tight\"); plt.close()\n",
    "\n",
    "    plt.figure()\n",
    "    plt.plot(hist[\"train_kl\"], label=\"train_kl\")\n",
    "    plt.plot(hist[\"val_kl\"],   label=\"val_kl\")\n",
    "    plt.xlabel(\"Epoch\"); plt.ylabel(\"KL\"); plt.title(f\"KL Divergence ({tag})\"); plt.legend()\n",
    "    p3 = os.path.join(out_dir, f\"loss_kl_{tag}.png\")\n",
    "    plt.savefig(p3, dpi=150, bbox_inches=\"tight\"); plt.close()\n",
    "    return p1, p2, p3\n",
    "\n",
    "plot_history(baseline_hist, tag=\"baseline\", out_dir=\"vae_outputs\")\n"
   ]
  },
  {
   "cell_type": "code",
   "execution_count": 8,
   "id": "3aaabfaa",
   "metadata": {},
   "outputs": [
    {
     "data": {
      "text/plain": [
       "'vae_outputs\\\\recon_grid_baseline.png'"
      ]
     },
     "execution_count": 8,
     "metadata": {},
     "output_type": "execute_result"
    }
   ],
   "source": [
    "# Cell 8: Reconstructions (Task 4.2a)\n",
    "@torch.no_grad()\n",
    "def visualize_reconstructions(model, loader, count=32, tag=\"baseline\", out_dir=\"vae_outputs\"):\n",
    "    model.eval()\n",
    "    x, _ = next(iter(loader))\n",
    "    x = x.to(device)[:count]\n",
    "    recon, _, _ = model(x)\n",
    "    grid = vutils.make_grid(torch.cat([(x+1)/2, (recon+1)/2], dim=0), nrow=count, pad_value=1.0)\n",
    "    path = os.path.join(out_dir, f\"recon_grid_{tag}.png\")\n",
    "    vutils.save_image(grid, path)\n",
    "    return path\n",
    "\n",
    "recon_path = visualize_reconstructions(vae, test_loader, count=16, tag=\"baseline\", out_dir=\"vae_outputs\")\n",
    "recon_path\n"
   ]
  },
  {
   "cell_type": "code",
   "execution_count": 9,
   "id": "b84113db",
   "metadata": {},
   "outputs": [
    {
     "data": {
      "text/plain": [
       "'vae_outputs\\\\gen_gaussian_baseline.png'"
      ]
     },
     "execution_count": 9,
     "metadata": {},
     "output_type": "execute_result"
    }
   ],
   "source": [
    "# Cell 9: Generations from Gaussian prior (Task 4.2b)\n",
    "@torch.no_grad()\n",
    "def sample_gaussian_prior(model, n=25, z_dim=20, tag=\"baseline_gauss\", out_dir=\"vae_outputs\"):\n",
    "    # infer z_dim if possible\n",
    "    try:\n",
    "        z_dim = getattr(model, \"z_dim\", z_dim)\n",
    "    except:\n",
    "        pass\n",
    "    z = torch.randn(n, z_dim, device=device)\n",
    "    if hasattr(model, \"decode\"):\n",
    "        gen = model.decode(z)\n",
    "    else:\n",
    "        raise RuntimeError(\"VAE model must expose a .decode(z) method in architecture.py\")\n",
    "    grid = vutils.make_grid((gen+1)/2, nrow=int(math.sqrt(n)), pad_value=1.0)\n",
    "    path = os.path.join(out_dir, f\"gen_gaussian_{tag}.png\")\n",
    "    vutils.save_image(grid, path)\n",
    "    return path\n",
    "\n",
    "gauss_gen_path = sample_gaussian_prior(vae, n=25, tag=\"baseline\", out_dir=\"vae_outputs\")\n",
    "gauss_gen_path\n"
   ]
  },
  {
   "cell_type": "code",
   "execution_count": 10,
   "id": "19879d0f",
   "metadata": {},
   "outputs": [
    {
     "data": {
      "text/plain": [
       "'vae_outputs\\\\gen_laplace_baseline.png'"
      ]
     },
     "execution_count": 10,
     "metadata": {},
     "output_type": "execute_result"
    }
   ],
   "source": [
    "# Cell 10: Generations from Laplacian prior (Task 4.2c)\n",
    "@torch.no_grad()\n",
    "def sample_laplacian_prior(model, n=25, z_dim=20, scale=1.0, tag=\"baseline_laplace\", out_dir=\"vae_outputs\"):\n",
    "    try:\n",
    "        z_dim = getattr(model, \"z_dim\", z_dim)\n",
    "    except:\n",
    "        pass\n",
    "    # Laplace(0, b) where b=scale\n",
    "    z_np = np.random.laplace(loc=0.0, scale=scale, size=(n, z_dim)).astype(np.float32)\n",
    "    z = torch.from_numpy(z_np).to(device)\n",
    "    if hasattr(model, \"decode\"):\n",
    "        gen = model.decode(z)\n",
    "    else:\n",
    "        raise RuntimeError(\"VAE model must expose a .decode(z) method in architecture.py\")\n",
    "    grid = vutils.make_grid((gen+1)/2, nrow=int(math.sqrt(n)), pad_value=1.0)\n",
    "    path = os.path.join(out_dir, f\"gen_laplace_{tag}.png\")\n",
    "    vutils.save_image(grid, path)\n",
    "    return path\n",
    "\n",
    "lap_gen_path = sample_laplacian_prior(vae, n=25, scale=1.0, tag=\"baseline\", out_dir=\"vae_outputs\")\n",
    "lap_gen_path\n"
   ]
  },
  {
   "cell_type": "code",
   "execution_count": 11,
   "id": "68d3ca7e",
   "metadata": {},
   "outputs": [
    {
     "data": {
      "text/plain": [
       "{'mu_L2_mean': 0.22306039929389954,\n",
       " 'var_mean': 0.9974532723426819,\n",
       " 'logvar_mean': -0.002918652957305312}"
      ]
     },
     "execution_count": 11,
     "metadata": {},
     "output_type": "execute_result"
    }
   ],
   "source": [
    "# Cell 11: Posterior diagnostics (Task 4.3b/c) — summarize mu/logvar stats on test set\n",
    "@torch.no_grad()\n",
    "def posterior_stats(model, loader, max_batches=50):\n",
    "    model.eval()\n",
    "    mu_list, logvar_list = [], []\n",
    "    for i, (x, _) in enumerate(loader):\n",
    "        x = x.to(device)\n",
    "        mu, logvar = model.encode(x)\n",
    "        mu_list.append(mu.detach().cpu())\n",
    "        logvar_list.append(logvar.detach().cpu())\n",
    "        if i+1 >= max_batches:\n",
    "            break\n",
    "    mu_all = torch.cat(mu_list)\n",
    "    logvar_all = torch.cat(logvar_list)\n",
    "    mu_norm = mu_all.pow(2).sum(dim=1).sqrt().mean().item()\n",
    "    avg_var = logvar_all.exp().mean().item()\n",
    "    avg_logvar = logvar_all.mean().item()\n",
    "    return {\"mu_L2_mean\": mu_norm, \"var_mean\": avg_var, \"logvar_mean\": avg_logvar}\n",
    "\n",
    "posterior_summary_baseline = posterior_stats(vae, test_loader, max_batches=100)\n",
    "posterior_summary_baseline\n"
   ]
  },
  {
   "cell_type": "code",
   "execution_count": 12,
   "id": "c2427aed",
   "metadata": {},
   "outputs": [],
   "source": [
    "# Cell 12: Mitigation strategy — KL annealing (Task 4.4)\n",
    "# Gradually increase beta from 0 -> 1 over warmup epochs, then keep at 1\n",
    "def train_vae_anneal(\n",
    "    model,\n",
    "    train_loader,\n",
    "    val_loader,\n",
    "    epochs=20,\n",
    "    lr=1e-3,\n",
    "    warmup_epochs=10,\n",
    "    tag=\"annealed\",\n",
    "    log_interval=100,\n",
    "    out_dir=\"vae_outputs\",\n",
    "):\n",
    "    model = model.to(device)\n",
    "    opt = torch.optim.Adam(model.parameters(), lr=lr)\n",
    "\n",
    "    def beta_at_epoch(ep):\n",
    "        if ep <= warmup_epochs:\n",
    "            return ep / float(warmup_epochs)\n",
    "        return 1.0\n",
    "\n",
    "    hist = {\"train_recon\": [], \"train_kl\": [], \"train_total\": [],\n",
    "            \"val_recon\": [],   \"val_kl\":   [], \"val_total\": [], \"beta\": []}\n",
    "\n",
    "    step = 0\n",
    "    for ep in range(1, epochs+1):\n",
    "        beta = beta_at_epoch(ep)\n",
    "        hist[\"beta\"].append(beta)\n",
    "        model.train()\n",
    "        recon_running, kl_running, nb = 0.0, 0.0, 0\n",
    "        for x, _ in train_loader:\n",
    "            x = x.to(device)\n",
    "            opt.zero_grad()\n",
    "            recon, mu, logvar = model(x)\n",
    "            recon_loss = mse_recon_loss(recon, x)\n",
    "            kl = kl_divergence(mu, logvar)\n",
    "            loss = recon_loss + beta * kl\n",
    "            loss.backward()\n",
    "            opt.step()\n",
    "\n",
    "            recon_running += recon_loss.item()\n",
    "            kl_running += kl.item()\n",
    "            nb += 1\n",
    "\n",
    "            if step % log_interval == 0:\n",
    "                print(f\"[{tag}] Epoch {ep:02d} (beta={beta:.3f}) Step {step:05d} | recon {recon_loss.item():.4f} | kl {kl.item():.4f} | total {loss.item():.4f}\")\n",
    "            step += 1\n",
    "\n",
    "        # epoch means\n",
    "        train_recon = recon_running / nb\n",
    "        train_kl    = kl_running / nb\n",
    "        train_total = train_recon + beta * train_kl\n",
    "\n",
    "        # validation\n",
    "        val_metrics = evaluate_epoch(model, val_loader, beta=beta)\n",
    "\n",
    "        hist[\"train_recon\"].append(train_recon)\n",
    "        hist[\"train_kl\"].append(train_kl)\n",
    "        hist[\"train_total\"].append(train_total)\n",
    "        hist[\"val_recon\"].append(val_metrics[\"recon\"])\n",
    "        hist[\"val_kl\"].append(val_metrics[\"kl\"])\n",
    "        hist[\"val_total\"].append(val_metrics[\"total\"])\n",
    "\n",
    "        # save recon grid\n",
    "        with torch.no_grad():\n",
    "            x_vis, _ = next(iter(val_loader))\n",
    "            x_vis = x_vis.to(device)[:16]\n",
    "            recon_vis, _, _ = model(x_vis)\n",
    "            grid = vutils.make_grid(torch.cat([(x_vis+1)/2, (recon_vis+1)/2], dim=0), nrow=16, pad_value=1.0)\n",
    "            vutils.save_image(grid, os.path.join(out_dir, f\"recon_{tag}_epoch_{ep:03d}.png\"))\n",
    "\n",
    "        print(f\"[{tag}] Epoch {ep:02d} beta={beta:.3f} | train(total={train_total:.4f}, recon={train_recon:.4f}, kl={train_kl:.4f}) \"\n",
    "              f\"| val(total={val_metrics['total']:.4f}, recon={val_metrics['recon']:.4f}, kl={val_metrics['kl']:.4f})\")\n",
    "\n",
    "    return hist\n"
   ]
  },
  {
   "cell_type": "code",
   "execution_count": 13,
   "id": "d1aefa54",
   "metadata": {},
   "outputs": [
    {
     "name": "stdout",
     "output_type": "stream",
     "text": [
      "[annealed] Epoch 01 (beta=0.100) Step 00000 | recon 1.3268 | kl 0.0015 | total 1.3270\n",
      "[annealed] Epoch 01 (beta=0.100) Step 00100 | recon 0.6779 | kl 0.0001 | total 0.6779\n",
      "[annealed] Epoch 01 (beta=0.100) Step 00200 | recon 0.6766 | kl 0.0000 | total 0.6766\n",
      "[annealed] Epoch 01 (beta=0.100) Step 00300 | recon 0.6830 | kl 0.0000 | total 0.6830\n",
      "[annealed] Epoch 01 (beta=0.100) Step 00400 | recon 0.6799 | kl 0.0000 | total 0.6799\n",
      "[annealed] Epoch 01 beta=0.100 | train(total=0.6961, recon=0.6956, kl=0.0050) | val(total=0.6813, recon=0.6813, kl=0.0000)\n",
      "[annealed] Epoch 02 (beta=0.200) Step 00500 | recon 0.6843 | kl 0.0002 | total 0.6844\n",
      "[annealed] Epoch 02 (beta=0.200) Step 00600 | recon 0.6694 | kl 0.0295 | total 0.6753\n",
      "[annealed] Epoch 02 (beta=0.200) Step 00700 | recon 0.6782 | kl 0.0292 | total 0.6841\n",
      "[annealed] Epoch 02 (beta=0.200) Step 00800 | recon 0.6692 | kl 0.0453 | total 0.6783\n",
      "[annealed] Epoch 02 beta=0.200 | train(total=0.6705, recon=0.6648, kl=0.0286) | val(total=0.6571, recon=0.6466, kl=0.0527)\n",
      "[annealed] Epoch 03 (beta=0.300) Step 00900 | recon 0.6601 | kl 0.0454 | total 0.6737\n",
      "[annealed] Epoch 03 (beta=0.300) Step 01000 | recon 0.6763 | kl 0.0453 | total 0.6898\n",
      "[annealed] Epoch 03 (beta=0.300) Step 01100 | recon 0.6595 | kl 0.0496 | total 0.6743\n",
      "[annealed] Epoch 03 (beta=0.300) Step 01200 | recon 0.6378 | kl 0.0561 | total 0.6547\n",
      "[annealed] Epoch 03 beta=0.300 | train(total=0.6602, recon=0.6451, kl=0.0504) | val(total=0.6553, recon=0.6383, kl=0.0566)\n",
      "[annealed] Epoch 04 (beta=0.400) Step 01300 | recon 0.6610 | kl 0.0507 | total 0.6813\n",
      "[annealed] Epoch 04 (beta=0.400) Step 01400 | recon 0.6458 | kl 0.0431 | total 0.6631\n",
      "[annealed] Epoch 04 (beta=0.400) Step 01500 | recon 0.6487 | kl 0.0465 | total 0.6673\n",
      "[annealed] Epoch 04 (beta=0.400) Step 01600 | recon 0.6384 | kl 0.0433 | total 0.6557\n",
      "[annealed] Epoch 04 (beta=0.400) Step 01700 | recon 0.6503 | kl 0.0451 | total 0.6684\n",
      "[annealed] Epoch 04 beta=0.400 | train(total=0.6636, recon=0.6459, kl=0.0442) | val(total=0.6603, recon=0.6452, kl=0.0378)\n",
      "[annealed] Epoch 05 (beta=0.500) Step 01800 | recon 0.6499 | kl 0.0327 | total 0.6662\n",
      "[annealed] Epoch 05 (beta=0.500) Step 01900 | recon 0.6526 | kl 0.0329 | total 0.6691\n",
      "[annealed] Epoch 05 (beta=0.500) Step 02000 | recon 0.6647 | kl 0.0320 | total 0.6807\n",
      "[annealed] Epoch 05 (beta=0.500) Step 02100 | recon 0.6533 | kl 0.0399 | total 0.6733\n",
      "[annealed] Epoch 05 beta=0.500 | train(total=0.6672, recon=0.6501, kl=0.0343) | val(total=0.6635, recon=0.6475, kl=0.0321)\n",
      "[annealed] Epoch 06 (beta=0.600) Step 02200 | recon 0.6440 | kl 0.0249 | total 0.6590\n",
      "[annealed] Epoch 06 (beta=0.600) Step 02300 | recon 0.6419 | kl 0.0260 | total 0.6574\n",
      "[annealed] Epoch 06 (beta=0.600) Step 02400 | recon 0.6553 | kl 0.0241 | total 0.6698\n",
      "[annealed] Epoch 06 (beta=0.600) Step 02500 | recon 0.6453 | kl 0.0278 | total 0.6620\n",
      "[annealed] Epoch 06 beta=0.600 | train(total=0.6698, recon=0.6539, kl=0.0265) | val(total=0.6672, recon=0.6520, kl=0.0253)\n",
      "[annealed] Epoch 07 (beta=0.700) Step 02600 | recon 0.6478 | kl 0.0299 | total 0.6687\n",
      "[annealed] Epoch 07 (beta=0.700) Step 02700 | recon 0.6456 | kl 0.0214 | total 0.6606\n",
      "[annealed] Epoch 07 (beta=0.700) Step 02800 | recon 0.6648 | kl 0.0187 | total 0.6779\n",
      "[annealed] Epoch 07 (beta=0.700) Step 02900 | recon 0.7037 | kl 0.0222 | total 0.7192\n",
      "[annealed] Epoch 07 (beta=0.700) Step 03000 | recon 0.6612 | kl 0.0211 | total 0.6759\n",
      "[annealed] Epoch 07 beta=0.700 | train(total=0.6720, recon=0.6569, kl=0.0216) | val(total=0.6688, recon=0.6522, kl=0.0237)\n",
      "[annealed] Epoch 08 (beta=0.800) Step 03100 | recon 0.6683 | kl 0.0164 | total 0.6814\n",
      "[annealed] Epoch 08 (beta=0.800) Step 03200 | recon 0.6539 | kl 0.0216 | total 0.6712\n",
      "[annealed] Epoch 08 (beta=0.800) Step 03300 | recon 0.6557 | kl 0.0157 | total 0.6683\n",
      "[annealed] Epoch 08 (beta=0.800) Step 03400 | recon 0.6556 | kl 0.0195 | total 0.6712\n",
      "[annealed] Epoch 08 beta=0.800 | train(total=0.6740, recon=0.6599, kl=0.0176) | val(total=0.6718, recon=0.6554, kl=0.0205)\n",
      "[annealed] Epoch 09 (beta=0.900) Step 03500 | recon 0.6421 | kl 0.0143 | total 0.6550\n",
      "[annealed] Epoch 09 (beta=0.900) Step 03600 | recon 0.6707 | kl 0.0180 | total 0.6868\n",
      "[annealed] Epoch 09 (beta=0.900) Step 03700 | recon 0.6494 | kl 0.0154 | total 0.6632\n",
      "[annealed] Epoch 09 (beta=0.900) Step 03800 | recon 0.6691 | kl 0.0140 | total 0.6817\n",
      "[annealed] Epoch 09 beta=0.900 | train(total=0.6753, recon=0.6629, kl=0.0137) | val(total=0.6732, recon=0.6602, kl=0.0145)\n",
      "[annealed] Epoch 10 (beta=1.000) Step 03900 | recon 0.6646 | kl 0.0112 | total 0.6758\n",
      "[annealed] Epoch 10 (beta=1.000) Step 04000 | recon 0.6576 | kl 0.0096 | total 0.6673\n",
      "[annealed] Epoch 10 (beta=1.000) Step 04100 | recon 0.6638 | kl 0.0101 | total 0.6739\n",
      "[annealed] Epoch 10 (beta=1.000) Step 04200 | recon 0.6568 | kl 0.0121 | total 0.6689\n",
      "[annealed] Epoch 10 beta=1.000 | train(total=0.6766, recon=0.6660, kl=0.0107) | val(total=0.6741, recon=0.6626, kl=0.0114)\n",
      "[annealed] Epoch 11 (beta=1.000) Step 04300 | recon 0.6521 | kl 0.0089 | total 0.6610\n",
      "[annealed] Epoch 11 (beta=1.000) Step 04400 | recon 0.6794 | kl 0.0112 | total 0.6905\n",
      "[annealed] Epoch 11 (beta=1.000) Step 04500 | recon 0.6710 | kl 0.0103 | total 0.6814\n",
      "[annealed] Epoch 11 (beta=1.000) Step 04600 | recon 0.6477 | kl 0.0093 | total 0.6570\n",
      "[annealed] Epoch 11 (beta=1.000) Step 04700 | recon 0.6687 | kl 0.0071 | total 0.6758\n",
      "[annealed] Epoch 11 beta=1.000 | train(total=0.6763, recon=0.6659, kl=0.0105) | val(total=0.6746, recon=0.6641, kl=0.0104)\n",
      "[annealed] Epoch 12 (beta=1.000) Step 04800 | recon 0.6603 | kl 0.0122 | total 0.6725\n",
      "[annealed] Epoch 12 (beta=1.000) Step 04900 | recon 0.6654 | kl 0.0087 | total 0.6740\n",
      "[annealed] Epoch 12 (beta=1.000) Step 05000 | recon 0.6646 | kl 0.0112 | total 0.6758\n",
      "[annealed] Epoch 12 (beta=1.000) Step 05100 | recon 0.6500 | kl 0.0108 | total 0.6608\n",
      "[annealed] Epoch 12 beta=1.000 | train(total=0.6766, recon=0.6662, kl=0.0104) | val(total=0.6739, recon=0.6597, kl=0.0142)\n",
      "[annealed] Epoch 13 (beta=1.000) Step 05200 | recon 0.6336 | kl 0.0101 | total 0.6437\n",
      "[annealed] Epoch 13 (beta=1.000) Step 05300 | recon 0.6519 | kl 0.0124 | total 0.6643\n",
      "[annealed] Epoch 13 (beta=1.000) Step 05400 | recon 0.6762 | kl 0.0101 | total 0.6863\n",
      "[annealed] Epoch 13 (beta=1.000) Step 05500 | recon 0.6716 | kl 0.0108 | total 0.6824\n",
      "[annealed] Epoch 13 beta=1.000 | train(total=0.6765, recon=0.6662, kl=0.0102) | val(total=0.6754, recon=0.6637, kl=0.0118)\n",
      "[annealed] Epoch 14 (beta=1.000) Step 05600 | recon 0.6707 | kl 0.0098 | total 0.6805\n",
      "[annealed] Epoch 14 (beta=1.000) Step 05700 | recon 0.6513 | kl 0.0129 | total 0.6642\n",
      "[annealed] Epoch 14 (beta=1.000) Step 05800 | recon 0.6588 | kl 0.0105 | total 0.6693\n",
      "[annealed] Epoch 14 (beta=1.000) Step 05900 | recon 0.6508 | kl 0.0088 | total 0.6596\n",
      "[annealed] Epoch 14 (beta=1.000) Step 06000 | recon 0.6465 | kl 0.0119 | total 0.6584\n",
      "[annealed] Epoch 14 beta=1.000 | train(total=0.6764, recon=0.6658, kl=0.0106) | val(total=0.6748, recon=0.6640, kl=0.0108)\n",
      "[annealed] Epoch 15 (beta=1.000) Step 06100 | recon 0.6513 | kl 0.0099 | total 0.6613\n",
      "[annealed] Epoch 15 (beta=1.000) Step 06200 | recon 0.6596 | kl 0.0103 | total 0.6699\n",
      "[annealed] Epoch 15 (beta=1.000) Step 06300 | recon 0.6716 | kl 0.0093 | total 0.6809\n",
      "[annealed] Epoch 15 (beta=1.000) Step 06400 | recon 0.6683 | kl 0.0104 | total 0.6787\n",
      "[annealed] Epoch 15 beta=1.000 | train(total=0.6766, recon=0.6663, kl=0.0104) | val(total=0.6754, recon=0.6653, kl=0.0100)\n",
      "[annealed] Epoch 16 (beta=1.000) Step 06500 | recon 0.6541 | kl 0.0074 | total 0.6615\n",
      "[annealed] Epoch 16 (beta=1.000) Step 06600 | recon 0.6674 | kl 0.0070 | total 0.6745\n",
      "[annealed] Epoch 16 (beta=1.000) Step 06700 | recon 0.6661 | kl 0.0096 | total 0.6757\n",
      "[annealed] Epoch 16 (beta=1.000) Step 06800 | recon 0.6852 | kl 0.0077 | total 0.6929\n",
      "[annealed] Epoch 16 beta=1.000 | train(total=0.6764, recon=0.6668, kl=0.0096) | val(total=0.6743, recon=0.6647, kl=0.0096)\n",
      "[annealed] Epoch 17 (beta=1.000) Step 06900 | recon 0.6659 | kl 0.0097 | total 0.6756\n",
      "[annealed] Epoch 17 (beta=1.000) Step 07000 | recon 0.6638 | kl 0.0127 | total 0.6765\n",
      "[annealed] Epoch 17 (beta=1.000) Step 07100 | recon 0.6573 | kl 0.0096 | total 0.6670\n",
      "[annealed] Epoch 17 (beta=1.000) Step 07200 | recon 0.6663 | kl 0.0087 | total 0.6750\n",
      "[annealed] Epoch 17 beta=1.000 | train(total=0.6764, recon=0.6661, kl=0.0102) | val(total=0.6740, recon=0.6628, kl=0.0112)\n",
      "[annealed] Epoch 18 (beta=1.000) Step 07300 | recon 0.6627 | kl 0.0090 | total 0.6718\n",
      "[annealed] Epoch 18 (beta=1.000) Step 07400 | recon 0.6693 | kl 0.0102 | total 0.6795\n",
      "[annealed] Epoch 18 (beta=1.000) Step 07500 | recon 0.6871 | kl 0.0080 | total 0.6951\n",
      "[annealed] Epoch 18 (beta=1.000) Step 07600 | recon 0.6712 | kl 0.0102 | total 0.6814\n",
      "[annealed] Epoch 18 (beta=1.000) Step 07700 | recon 0.6595 | kl 0.0123 | total 0.6718\n",
      "[annealed] Epoch 18 beta=1.000 | train(total=0.6764, recon=0.6662, kl=0.0102) | val(total=0.6752, recon=0.6619, kl=0.0133)\n",
      "[annealed] Epoch 19 (beta=1.000) Step 07800 | recon 0.6700 | kl 0.0092 | total 0.6792\n",
      "[annealed] Epoch 19 (beta=1.000) Step 07900 | recon 0.6721 | kl 0.0090 | total 0.6811\n",
      "[annealed] Epoch 19 (beta=1.000) Step 08000 | recon 0.6709 | kl 0.0085 | total 0.6793\n",
      "[annealed] Epoch 19 (beta=1.000) Step 08100 | recon 0.6747 | kl 0.0086 | total 0.6833\n",
      "[annealed] Epoch 19 beta=1.000 | train(total=0.6763, recon=0.6663, kl=0.0100) | val(total=0.6750, recon=0.6658, kl=0.0092)\n",
      "[annealed] Epoch 20 (beta=1.000) Step 08200 | recon 0.6755 | kl 0.0089 | total 0.6844\n",
      "[annealed] Epoch 20 (beta=1.000) Step 08300 | recon 0.6746 | kl 0.0090 | total 0.6836\n",
      "[annealed] Epoch 20 (beta=1.000) Step 08400 | recon 0.6520 | kl 0.0082 | total 0.6602\n",
      "[annealed] Epoch 20 (beta=1.000) Step 08500 | recon 0.6553 | kl 0.0089 | total 0.6642\n",
      "[annealed] Epoch 20 beta=1.000 | train(total=0.6767, recon=0.6663, kl=0.0103) | val(total=0.6747, recon=0.6637, kl=0.0110)\n"
     ]
    },
    {
     "data": {
      "text/plain": [
       "({'mu_L2_mean': 0.4429410696029663,\n",
       "  'var_mean': 0.9844248294830322,\n",
       "  'logvar_mean': -0.019997434690594673},\n",
       " 'vae_outputs\\\\recon_grid_annealed.png',\n",
       " 'vae_outputs\\\\gen_gaussian_annealed.png',\n",
       " 'vae_outputs\\\\gen_laplace_annealed.png')"
      ]
     },
     "execution_count": 13,
     "metadata": {},
     "output_type": "execute_result"
    }
   ],
   "source": [
    "# Cell 13: Train with KL annealing (no architecture change), then visualize generations\n",
    "# Re-instantiate model to start fresh\n",
    "vae_anneal = VAE().to(device)\n",
    "anneal_hist = train_vae_anneal(\n",
    "    vae_anneal, train_loader, val_loader,\n",
    "    epochs=20,\n",
    "    lr=1e-3,\n",
    "    warmup_epochs=10,     # gradually introduce KL\n",
    "    tag=\"annealed\",\n",
    "    log_interval=100,\n",
    "    out_dir=\"vae_outputs\",\n",
    ")\n",
    "\n",
    "# Posterior stats after annealing\n",
    "posterior_summary_annealed = posterior_stats(vae_anneal, test_loader, max_batches=100)\n",
    "\n",
    "# Reconstructions & generations\n",
    "recon_path_anneal = visualize_reconstructions(vae_anneal, test_loader, count=16, tag=\"annealed\", out_dir=\"vae_outputs\")\n",
    "gauss_gen_anneal  = sample_gaussian_prior(vae_anneal, n=25, tag=\"annealed\", out_dir=\"vae_outputs\")\n",
    "lap_gen_anneal    = sample_laplacian_prior(vae_anneal, n=25, scale=1.0, tag=\"annealed\", out_dir=\"vae_outputs\")\n",
    "\n",
    "posterior_summary_annealed, recon_path_anneal, gauss_gen_anneal, lap_gen_anneal\n"
   ]
  },
  {
   "cell_type": "code",
   "execution_count": 14,
   "id": "b0a6da81",
   "metadata": {},
   "outputs": [
    {
     "name": "stdout",
     "output_type": "stream",
     "text": [
      "vae_outputs/recon_grid_baseline.png\n"
     ]
    },
    {
     "data": {
      "image/png": "[encoded data removed]",
      "text/plain": [
       "<IPython.core.display.Image object>"
      ]
     },
     "metadata": {},
     "output_type": "display_data"
    },
    {
     "name": "stdout",
     "output_type": "stream",
     "text": [
      "vae_outputs/gen_gaussian_baseline.png\n"
     ]
    },
    {
     "data": {
      "image/png": "[encoded data removed]",
      "text/plain": [
       "<IPython.core.display.Image object>"
      ]
     },
     "metadata": {},
     "output_type": "display_data"
    },
    {
     "name": "stdout",
     "output_type": "stream",
     "text": [
      "vae_outputs/gen_laplace_baseline.png\n"
     ]
    },
    {
     "data": {
      "image/png": "[encoded data removed]",
      "text/plain": [
       "<IPython.core.display.Image object>"
      ]
     },
     "metadata": {},
     "output_type": "display_data"
    },
    {
     "name": "stdout",
     "output_type": "stream",
     "text": [
      "vae_outputs/recon_grid_annealed.png\n"
     ]
    },
    {
     "data": {
      "image/png": "[encoded data removed]",
      "text/plain": [
       "<IPython.core.display.Image object>"
      ]
     },
     "metadata": {},
     "output_type": "display_data"
    },
    {
     "name": "stdout",
     "output_type": "stream",
     "text": [
      "vae_outputs/gen_gaussian_annealed.png\n"
     ]
    },
    {
     "data": {
      "image/png": "[encoded data removed]",
      "text/plain": [
       "<IPython.core.display.Image object>"
      ]
     },
     "metadata": {},
     "output_type": "display_data"
    },
    {
     "name": "stdout",
     "output_type": "stream",
     "text": [
      "vae_outputs/gen_laplace_annealed.png\n"
     ]
    },
    {
     "data": {
      "image/png": "[encoded data removed]",
      "text/plain": [
       "<IPython.core.display.Image object>"
      ]
     },
     "metadata": {},
     "output_type": "display_data"
    }
   ],
   "source": [
    "# Cell 15: Quick inline display of some outputs (optional)\n",
    "from IPython.display import Image as IPyImage, display as ipy_display\n",
    "\n",
    "paths_to_show = [\n",
    "    \"vae_outputs/recon_grid_baseline.png\" if os.path.exists(\"vae_outputs/recon_grid_baseline.png\") else \"\",\n",
    "    \"vae_outputs/gen_gaussian_baseline.png\",\n",
    "    \"vae_outputs/gen_laplace_baseline.png\",\n",
    "    \"vae_outputs/recon_grid_annealed.png\",\n",
    "    \"vae_outputs/gen_gaussian_annealed.png\",\n",
    "    \"vae_outputs/gen_laplace_annealed.png\",\n",
    "]\n",
    "\n",
    "for p in paths_to_show:\n",
    "    if p and os.path.exists(p):\n",
    "        print(p)\n",
    "        ipy_display(IPyImage(filename=p))\n"
   ]
  }
 ],
 "metadata": {
  "kernelspec": {
   "display_name": "Python 3",
   "language": "python",
   "name": "python3"
  },
  "language_info": {
   "codemirror_mode": {
    "name": "ipython",
    "version": 3
   },
   "file_extension": ".py",
   "mimetype": "text/x-python",
   "name": "python",
   "nbconvert_exporter": "python",
   "pygments_lexer": "ipython3",
   "version": "3.11.9"
  }
 },
 "nbformat": 4,
 "nbformat_minor": 5
}
